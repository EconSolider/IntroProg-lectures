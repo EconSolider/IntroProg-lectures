{
 "cells": [
  {
   "cell_type": "markdown",
   "metadata": {},
   "source": [
    "**Table of contents**<a id='toc0_'></a>    \n",
    "- 1. [Going through the problem statement](#toc1_)    \n",
    "- 2. [Tips](#toc2_)    \n",
    "- 3. [Examples](#toc3_)    \n",
    "- 4. [Questions and/or added material](#toc4_)    \n",
    "\n",
    "<!-- vscode-jupyter-toc-config\n",
    "\tnumbering=true\n",
    "\tanchor=true\n",
    "\tflat=false\n",
    "\tminLevel=2\n",
    "\tmaxLevel=6\n",
    "\t/vscode-jupyter-toc-config -->\n",
    "<!-- THIS CELL WILL BE REPLACED ON TOC UPDATE. DO NOT WRITE YOUR TEXT IN THIS CELL -->"
   ]
  },
  {
   "cell_type": "markdown",
   "metadata": {},
   "source": [
    "## 1. <a id='toc1_'></a>[Going through the problem statement](#toc0_)"
   ]
  },
  {
   "cell_type": "markdown",
   "metadata": {},
   "source": [
    "## 2. <a id='toc2_'></a>[Tips](#toc0_)"
   ]
  },
  {
   "cell_type": "markdown",
   "metadata": {},
   "source": [
    "The main parts of the project are:\n",
    "1. **Finding a datasource** <br>\n",
    "    Using a novel datasource (as opposed to for example just GDP from DST) gives some extra points, becuase you'll be encountering unique issues not covered in the lectures. <br>\n",
    "    But given the time constraint you should of course not spend to much time researching, once you've chosen something, stick with it and show what you can using it. \n",
    "1. **Cleaning the data** <br>\n",
    "    This can include understanding how to load it, removing missing values, merging datasets, etc.  <br>\n",
    "    And also making calculations. \n",
    "1. **Making some plots and/or tables** <br>\n",
    "    This can be anything from simple line plots to more advanced plots. This is where the quantity/quality tradeoff comes in, and quality is more important in this project. <br>\n",
    "    Doing 1 detailed plot with calculations and custom changes is much better than 5 line plots of the raw data."
   ]
  },
  {
   "cell_type": "markdown",
   "metadata": {},
   "source": [
    "**Data science can be an excruciating job.** <br>\n",
    "Because you’re doing self-chosen projects, you won’t be able to rely as much on the lectures and PSs.<br>\n",
    "But stick with it, the internet is full of help. Plus the TA and I am also available for help. <br>\n",
    "If you have a concrete issue you can't solve on your project, raise an [issue on Github](https://github.com/NumEconCopenhagen/IntroProg-lectures/issues) and make sure to commit your latest version on your repository. <br>"
   ]
  },
  {
   "cell_type": "markdown",
   "metadata": {},
   "source": [
    "**On interactive plots:** <br>\n",
    "Interactive plots are fun and nice to do, but their real world application is limited because a lot of work has to end up in a static pdf <br>\n",
    "They can be useful for understanding the data for yourself, but they can also be tricky to make and not always worth the time. <br>"
   ]
  },
  {
   "cell_type": "markdown",
   "metadata": {},
   "source": [
    "*A general tip on your projects:* <br>\n",
    "**Clean up your repository folders.** A lot of hand-in for the inaugural projects had multiples of the same files with slight wording variation e.g inauguralproject.ipynb, inauguralprojectCopy.ipynb, inauguralproject.ipynbinauguralproject2.ipynb etc. <br>\n",
    "This makes the folder unclear to read and leaves a bad first impression. <br>\n",
    "Choose a masterfile and delete the rest (or at least put it in a 'misc'-folder), the nice thing about git is that deleted files can always be recovered. <br>"
   ]
  },
  {
   "cell_type": "markdown",
   "metadata": {},
   "source": [
    "## 3. <a id='toc3_'></a>[Examples og good data projects from last year](#toc0_)"
   ]
  },
  {
   "cell_type": "markdown",
   "metadata": {},
   "source": [
    "- https://github.com/NumEconCopenhagen/projects-2023-aca/blob/main/dataproject/dataproject.ipynb <br>\n",
    "    Well done project, interesting topic and nice plots. It doesn't need to be this long, and the code would be easier to read if some of it was put in a .py file.\n",
    "- https://github.com/NumEconCopenhagen/projects-2023-data_daddies/blob/main/dataproject/Dataproject_wastezurich.ipynb <br>\n",
    "    Interesting data, good explanation of their data cleaning process. The plots are quite simple, but the underlying data process was quite involved. \n",
    "- https://github.com/NumEconCopenhagen/projects-2023-adamhjorgensen/blob/main/dataproject/markups.ipynb <br>\n",
    "    Good data cleaning, and simple but nice plots. A lot of the heavy lifting is cleverly hidden in the .py files (in the src folder).\n",
    "- https://github.com/NumEconCopenhagen/projects-2023-python/blob/main/dataproject/dataproject.ipynb <br>\n",
    "    Really well done project, with a cohesive story. "
   ]
  },
  {
   "cell_type": "markdown",
   "metadata": {},
   "source": [
    "## Using Copilot\n",
    "[Guide to getting Github Copilot pro-version as a student](https://sites.google.com/view/numeconcph-introprog/guides/installation)"
   ]
  },
  {
   "cell_type": "markdown",
   "metadata": {
    "vscode": {
     "languageId": "plaintext"
    }
   },
   "source": [
    "- I use the 'GitHub Copilot Chat' extension <br>\n",
    "- Use `Ctrl+Shift+I` or `Cmd+Shift+I` to open the chat window.\n",
    "- At default Copilot only sees the one file you are currently working with. <br>\n",
    "- If you add @workspace to your prompt, you can make Copilot look at all the files in your workspace, if it needs to have context. <br>\n",
    "-  This can also help you find relevant code from the lectures and PSs. <br>\n",
    "- Do not allow it to change the style of your code, but it can help you with the logic. <br>\n",
    "- Copilot will often explain the code it suggests, this can be very helpful. <br>\n",
    "- Copilot is not good at adhering to DRY (Don't Repeat Yourself) by default. <br>\n"
   ]
  },
  {
   "cell_type": "markdown",
   "metadata": {},
   "source": [
    "### An example of prompts that creates the beginning of a data project:\n",
    "1. Create a class that downloads stock data from yahoo, and from the adjsuted closing price calculates running means of 200 and 50 observations\n",
    "1. Add to the init method some code that displays some descriptive statistics of the loaded data in a table in a notebook\n",
    "1. Create a new method that plots adj close, and the two running means, allow input to choose which years to plot\n",
    "1. Redo the method so it creates the figure as fig,ax = with subplots \n",
    "1. @workspace In the begining of a lot of the notebooks there are some defaults setting for matplotlib can you find them?\n",
    "1. Could you add to the calculate_running_means method some code that creates a dummy variable for when the two moving averages cross\n",
    "1. Could add options to make a vertical line in the plot every time the two moving averages cross?\n",
    "1. The calculations for the cross does not work, the dummy need to be one if either 200_MA is larger than 50_MA, but it was smaller in the previous observation or 50_ma is larger than 200_MA, but it was smaller in the previous observation. \n",
    "1. Could you add a function that calculates cumulative returns and the alternative cumulative return if the stock is bought and sold at the cross points?\n",
    "1. Rewrite it so it adjust the attribute data self.data\n",
    "1. Could you add a method that plots cumulative returns, along with the crossover points\n",
    "1. Could add code to the plot_cumulative returns that rebases earnings to the start_year\n",
    "1. Could you combine the plot_data and plot_cumulative returns to one method, with optional argument to choose which variables to plot, to adhere to DRY?"
   ]
  },
  {
   "cell_type": "markdown",
   "metadata": {},
   "source": [
    "## 4. <a id='toc4_'></a>[Questions?](#toc0_)"
   ]
  }
 ],
 "metadata": {
  "kernelspec": {
   "display_name": "a311",
   "language": "python",
   "name": "python3"
  },
  "language_info": {
   "codemirror_mode": {
    "name": "ipython",
    "version": 3
   },
   "file_extension": ".py",
   "mimetype": "text/x-python",
   "name": "python",
   "nbconvert_exporter": "python",
   "pygments_lexer": "ipython3",
   "version": "3.11.5"
  }
 },
 "nbformat": 4,
 "nbformat_minor": 2
}
