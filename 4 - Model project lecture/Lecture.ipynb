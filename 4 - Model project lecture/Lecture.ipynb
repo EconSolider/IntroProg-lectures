{
 "cells": [
  {
   "cell_type": "markdown",
   "metadata": {
    "slideshow": {
     "slide_type": "skip"
    }
   },
   "source": [
    "*Note:* In the lecture I'll be using  [Jupyter](https://jupyter.org/) and [RISE](https://rise.readthedocs.io/en/latest/usage.html#running-a-slideshow) to render the notebook as a slideshow. I do this for pedagogical purposes, on your own computer, you can ignore it and just read it as a notebook in VS Code."
   ]
  },
  {
   "cell_type": "markdown",
   "metadata": {
    "slideshow": {
     "slide_type": "slide"
    }
   },
   "source": [
    "# Model project"
   ]
  },
  {
   "cell_type": "markdown",
   "metadata": {},
   "source": [
    "- The model project is a central part of the course. It's your chance to put together everything you have learned, and it connects the course with the rest of your economics education.\n",
    "- It is also a good preparation for the exam.\n",
    "- Two great projects are a safety net. They can compensate for a disappointing exam project."
   ]
  },
  {
   "cell_type": "markdown",
   "metadata": {
    "slideshow": {
     "slide_type": "slide"
    }
   },
   "source": [
    "**Table of contents**<a id='toc0_'></a>    \n",
    "- 1. [Finding a model project](#toc1_)    \n",
    "- 2. [Doing the model project](#toc2_)    \n",
    "  - 2.1. [Tips](#toc2_1_)    \n",
    "  - 2.2. [Your visualisation of the model](#toc2_2_) \n",
    "  - 2.3. [Your extension of the model](#toc2_3_)    \n",
    "- 3. [Turning the equations of a model into code](#toc3_)    \n",
    "  - 3.1. [Example from 2019-exam, finding the equilibrium](#toc3_1_)   \n",
    "  - 3.1. [Example from re-exam 2023:](#toc3_1_)   \n",
    "\n",
    "<!-- vscode-jupyter-toc-config\n",
    "\tnumbering=true\n",
    "\tanchor=true\n",
    "\tflat=false\n",
    "\tminLevel=2\n",
    "\tmaxLevel=6\n",
    "\t/vscode-jupyter-toc-config -->\n",
    "<!-- THIS CELL WILL BE REPLACED ON TOC UPDATE. DO NOT WRITE YOUR TEXT IN THIS CELL -->"
   ]
  },
  {
   "cell_type": "markdown",
   "metadata": {
    "slideshow": {
     "slide_type": "slide"
    }
   },
   "source": [
    "## 1. <a id='toc1_'></a>[Finding a model project](#toc0_)"
   ]
  },
  {
   "cell_type": "markdown",
   "metadata": {},
   "source": [
    "This is also discussed in the project explanation: <br>\n",
    "Find a model you like, preferably one you have encountered earlier in your studies.<br>\n",
    "\n",
    "Some models (AS-AD, Ramsey, OLG, Exchange economy, dynamic consumption saving, worker/capitalists production model) have been covered in the lectures and in the problem sets. <br>\n",
    "\n",
    "It's still perfectly fine to choose these models for your projects, but you need to change it and make it your own, as the part of the code that comes directly from the lectures with no adaption will not be counted in the assessment."
   ]
  },
  {
   "cell_type": "markdown",
   "metadata": {
    "slideshow": {
     "slide_type": "slide"
    }
   },
   "source": [
    "**What to consider when choosing a model**\n",
    "- Do you find it interesting?\n",
    "- Do you understand the model reasonably well?\n",
    "- It's not super important that the model is complicated, but a simple model puts the weight of the project on the extension part."
   ]
  },
  {
   "cell_type": "markdown",
   "metadata": {
    "slideshow": {
     "slide_type": "slide"
    }
   },
   "source": [
    "## 2. <a id='toc2_'></a>[Doing the model project](#toc0_)"
   ]
  },
  {
   "cell_type": "markdown",
   "metadata": {
    "slideshow": {
     "slide_type": "slide"
    }
   },
   "source": [
    "### 2.1. <a id='toc2_1_'></a>[Tips](#toc0_)"
   ]
  },
  {
   "cell_type": "markdown",
   "metadata": {},
   "source": [
    "When working:\n",
    "- Start with the most straightforward solution. Then simplify and optimize the code. <br>\n",
    "- Show and test intermediate results (both when you're working, but also in the project). <br>\n",
    "- It's good to have an idea of what the results should look like, and make tests from that, to debug your code. <br>\n",
    "    - This can be from an analytical solution or intuition. <br>\n",
    "\n",
    "Using modules (.py files) makes it **much easier** to structure your code. <br>\n",
    "It also makes it easier to reuse functions, so you aviod repeating yourself. <br>\n",
    "\n",
    "Don't relly too much on sympy. 'Numerical analysis' is part of the course name for a reason."
   ]
  },
  {
   "cell_type": "markdown",
   "metadata": {
    "slideshow": {
     "slide_type": "slide"
    }
   },
   "source": [
    "### 2.2. <a id='toc2_2_'></a>[Your visualisation of the model](#toc0_)"
   ]
  },
  {
   "cell_type": "markdown",
   "metadata": {},
   "source": [
    "This is very model dependent, you can e.g.:\n",
    "- Show the values that define the solution of your model, in whatever way you see fit\n",
    "- Show how the solution changes for different parameter values\n",
    "- If the model is time-dependent, then show evolution over time"
   ]
  },
  {
   "cell_type": "markdown",
   "metadata": {
    "slideshow": {
     "slide_type": "slide"
    }
   },
   "source": [
    "### 2.3. <a id='toc2_3_'></a>[Your extension of the model](#toc0_)"
   ]
  },
  {
   "cell_type": "markdown",
   "metadata": {},
   "source": [
    "- If you already have a complex model, your extension doesn’t necessarily have to be revolutionising. <br> \n",
    "With a good structure, it will typically not be that hard to re-solve the model with a different production or utility function. <br>\n",
    "\n",
    "- On the other hand, if you have a simple model, the meat of your project is the extension.<br>\n",
    "    This could include adding a new dimension to the model, like a new consumer good, making a parameter endogenous, etc."
   ]
  },
  {
   "cell_type": "markdown",
   "metadata": {
    "slideshow": {
     "slide_type": "slide"
    }
   },
   "source": [
    "## 3. <a id='toc3_'></a>[Turning the equations of a model into code](#toc0_)"
   ]
  },
  {
   "cell_type": "markdown",
   "metadata": {},
   "source": [
    "The Ramsey and OLG lectures are also really good case studies of this.<br>\n",
    "I have a quick aside on integrals and then I'll go through some examples."
   ]
  },
  {
   "cell_type": "markdown",
   "metadata": {
    "slideshow": {
     "slide_type": "slide"
    }
   },
   "source": [
    "**Dealing with integrals and models in continous time**<br>\n",
    "Integrals do not have a direct coding equivalent, but you can stil choose a model with integrals. <br>\n",
    "- You can do an numerical approximation using something like `scipy.integrate`\n",
    "- You can also redefine the model into a discrete version, this is for example done in the Ramsey notebook <br>\n",
    "E.g.\n",
    "$L_t= L_0 e^{g\\cdot t}$, means something grows about $g$ percent when $t$ increases by 1. <br>\n",
    "This comes from the semi-elasticity: \n",
    "$ \\frac{\\partial \\left(L_0 e^{g\\cdot t} \\right) }{\\partial t} \\frac{1}{L_0 e^{g\\cdot t}} = g$ \n",
    "\n",
    "So you write $L_t = (1+g)^t\\cdot L_0$ or $L_t = (1+g)\\cdot L_{t-1}$<br>\n",
    "\n",
    "\n",
    "You can also take:\n",
    "\\begin{align*}\n",
    "U = \\int_{0}^{\\infty} e^{(\\beta-1) t} u(c(t)) dt  \n",
    "\\end{align*}\n",
    "Write it as:\n",
    "\\begin{align*}\n",
    "U = \\sum_{t=0}^{\\infty} \\beta^t u(c(t))\n",
    "\\end{align*}\n",
    "And change infinitely lived households to finite lived households."
   ]
  },
  {
   "cell_type": "markdown",
   "metadata": {
    "slideshow": {
     "slide_type": "slide"
    }
   },
   "source": [
    "**Key points from the examples are:**\n",
    "- Walras law is almost always applicable when finding equilibrium prices with multiple traded goods. \n",
    "- Economic intuion can sometimes guide your solution algorithm (e.g. when demand exceeds supply, the price should be higher).\n",
    "- Nested optimization is super useful, and much easier to do with a good structure.\n",
    "- It's easier to check your results when you understand the intuition of the model."
   ]
  },
  {
   "cell_type": "markdown",
   "metadata": {
    "slideshow": {
     "slide_type": "slide"
    }
   },
   "source": [
    "### 3.1. <a id='toc3_1_'></a>[Example from 2019-exam, finding the equilibrium](#toc0_)"
   ]
  },
  {
   "cell_type": "markdown",
   "metadata": {},
   "source": [
    "Consider an **exchange economy** with\n",
    "\n",
    "1. 3 goods, $(x_1,x_2,x_3)$\n",
    "2. $N$ consumers indexed by $j \\in \\{1,2,\\dots,N\\}$\n",
    "3. Preferences are Cobb-Douglas with log-normally distributed coefficients\n",
    "\n",
    "    $$ \n",
    "    \\begin{aligned}\n",
    "    u^{j}(x_{1},x_{2},x_{3}) &=\n",
    "    \\left(x_{1}^{\\beta_{1}^{j}}x_{2}^{\\beta_{2}^{j}}x_{3}^{\\beta_{3}^{j}}\\right)^{\\gamma}\\\\\n",
    "     \\beta_{i}^{j} &= \\frac{\\alpha_{i}^{j}}{\\alpha_{1}^{j}+\\alpha_{2}^{j}+\\alpha_{3}^{j}} \\\\\n",
    "     \\boldsymbol{\\alpha}^{j} &= (\\alpha_{1}^{j},\\alpha_{2}^{j},\\alpha_{3}^{j}) \\\\ \n",
    "     \\log(\\boldsymbol{\\alpha}^j) &\\sim \\mathcal{N}(\\mu,\\Sigma) \\\\\n",
    "    \\end{aligned} \n",
    "    $$\n",
    "\n",
    "4. Endowments are exponentially distributed,\n",
    "\n",
    "$$\n",
    "\\begin{aligned}\n",
    "\\boldsymbol{e}^{j} &= (e_{1}^{j},e_{2}^{j},e_{3}^{j}) \\\\\n",
    " & e_i^j \\sim f, f(z;\\zeta) =  1/\\zeta \\exp(-z/\\zeta)\n",
    "\\end{aligned}\n",
    "$$"
   ]
  },
  {
   "cell_type": "markdown",
   "metadata": {
    "slideshow": {
     "slide_type": "slide"
    }
   },
   "source": [
    "Let $p_3 = 1$ be the **numeraire**. The implied **demand functions** are:\n",
    "\n",
    "$$\n",
    "\\begin{aligned}\n",
    "x_{i}^{\\star j}(p_{1},p_{2},\\boldsymbol{e}^{j}) &= \\beta^{j}_i\\frac{I^j}{p_{i}} \\\\\n",
    "\\end{aligned}\n",
    "$$\n",
    "\n",
    "where consumer $j$'s income is\n",
    "\n",
    "$$\n",
    "I^j = p_1 e_1^j + p_2 e_2^j +p_3 e_3^j\n",
    "$$"
   ]
  },
  {
   "cell_type": "markdown",
   "metadata": {
    "slideshow": {
     "slide_type": "slide"
    }
   },
   "source": [
    "**Question 1:** Plot the histograms of the budget shares for each good across agents."
   ]
  },
  {
   "cell_type": "code",
   "execution_count": 1,
   "metadata": {
    "slideshow": {
     "slide_type": "slide"
    }
   },
   "outputs": [],
   "source": [
    "%load_ext autoreload\n",
    "%autoreload 2\n",
    "from ExchangeEconomy_sol import ExchangeEconomyModel    "
   ]
  },
  {
   "cell_type": "code",
   "execution_count": 2,
   "metadata": {},
   "outputs": [],
   "source": [
    "EE = ExchangeEconomyModel()\n",
    "sim = EE.sim\n",
    "par = EE.par"
   ]
  },
  {
   "cell_type": "code",
   "execution_count": 3,
   "metadata": {},
   "outputs": [],
   "source": [
    "#"
   ]
  },
  {
   "cell_type": "markdown",
   "metadata": {},
   "source": [
    "\n",
    "Consider the **excess demand functions:**\n",
    "\n",
    "$$ \n",
    "z_i(p_1,p_2) = \\sum_{j=1}^N x_{i}^{\\star j}(p_{1},p_{2},\\boldsymbol{e}^{j}) - e_i^j\n",
    "$$\n",
    "\n",
    "**Question 2:** Plot the excess demand functions."
   ]
  },
  {
   "cell_type": "code",
   "execution_count": 4,
   "metadata": {},
   "outputs": [],
   "source": [
    "#"
   ]
  },
  {
   "cell_type": "code",
   "execution_count": 5,
   "metadata": {},
   "outputs": [],
   "source": [
    "#"
   ]
  },
  {
   "cell_type": "code",
   "execution_count": 6,
   "metadata": {},
   "outputs": [],
   "source": [
    "#"
   ]
  },
  {
   "cell_type": "markdown",
   "metadata": {},
   "source": [
    "**Question 3:** Find the Walras-equilibrium prices, $(p_1,p_2)$, where both excess demands are (approximately) zero, e.g. by using the following tâtonnement process:\n",
    "\n",
    "1. Guess on $p_1 > 0$, $p_2 > 0$ and choose tolerance $\\epsilon > 0$ and adjustment aggressivity parameter, $\\kappa > 0$.\n",
    "2. Calculate $z_1(p_1,p_2)$ and $z_2(p_1,p_2)$.\n",
    "3. If $|z_1| < \\epsilon$ and $|z_2| < \\epsilon$ then stop.\n",
    "4. Else set $p_1 = p_1 + \\kappa \\frac{z_1}{N}$ and $p_2 = p_2 + \\kappa \\frac{z_2}{N}$ and return to step 2."
   ]
  },
  {
   "cell_type": "code",
   "execution_count": 7,
   "metadata": {},
   "outputs": [],
   "source": [
    "#"
   ]
  },
  {
   "cell_type": "code",
   "execution_count": 8,
   "metadata": {},
   "outputs": [],
   "source": [
    "#"
   ]
  },
  {
   "cell_type": "markdown",
   "metadata": {},
   "source": [
    "**Question 4:** Plot the distribution of utility in the Walras-equilibrium and calculate its mean and variance."
   ]
  },
  {
   "cell_type": "markdown",
   "metadata": {},
   "source": [
    "**Question 5:** Find the Walras-equilibrium prices if instead all endowments were distributed equally. Discuss the implied changes in the distribution of utility. Does the value of $\\gamma$ play a role for your conclusions?"
   ]
  },
  {
   "cell_type": "code",
   "execution_count": 9,
   "metadata": {},
   "outputs": [],
   "source": [
    "# "
   ]
  },
  {
   "cell_type": "code",
   "execution_count": 10,
   "metadata": {},
   "outputs": [],
   "source": [
    "# "
   ]
  },
  {
   "cell_type": "markdown",
   "metadata": {
    "slideshow": {
     "slide_type": "slide"
    }
   },
   "source": [
    "### 3.2. <a id='toc3_2_'></a>[Example from re-exam 2023:](#toc0_)"
   ]
  },
  {
   "cell_type": "markdown",
   "metadata": {},
   "source": [
    "Consider an exchange economy with two agents, $A$ and $B$ each with their own distinct good. Their endowment are $e_A$ and $e_B$. Agent $A$ is the price-taker (buyer), she takes the relative price of the two goods, $p$, as given and chooses the amount of agent $B$'s good to exchange for her own. Agent $B$ is the price-setter (seller), she sets the relative price between the goods, optimally taking into account $A$'s demand."
   ]
  },
  {
   "cell_type": "markdown",
   "metadata": {
    "slideshow": {
     "slide_type": "slide"
    }
   },
   "source": [
    "**Agent $A$, the buyer, solves:**\n",
    "$$\n",
    "\\begin{align*}\n",
    "V_{A}(p) = \\max_{c,c'} u_A(c,c') \\\\ s.t. \\; c+pc'=e_{A} \\\\\n",
    "\\end{align*}\n",
    "$$\n",
    "Or simply:\n",
    "$$\n",
    "\\begin{align*}\n",
    "V_{A}(p) = \\max_{c'} u_A(e_{A}-pc',c')  \\\\\n",
    "\\end{align*}\n",
    "$$\n",
    "Where $c$ is consumption of her own good and $c'$ is consumption of the other good.<br>\n",
    "$u_A$ is her utility function. <br>\n",
    "This optimization yields the optimal demand function:\n",
    "$$\n",
    "\\begin{align*}\n",
    "\\Rightarrow c' = D(p)\n",
    "\\end{align*}\n",
    "$$"
   ]
  },
  {
   "cell_type": "markdown",
   "metadata": {
    "slideshow": {
     "slide_type": "slide"
    }
   },
   "source": [
    "**Agent $B$, the seller, solves:**\n",
    "\\begin{align*}\n",
    "p^* \\equiv \\arg\\max_p v_B(p) \\\\\n",
    "\\end{align*}\n",
    "where\n",
    "\\begin{align*}\n",
    "\\;\\,v_B(p) \\equiv u_B(e_B-D(p),pD(p))\n",
    "\\end{align*}"
   ]
  },
  {
   "cell_type": "markdown",
   "metadata": {},
   "source": [
    "$u_B$ is her utility function in consumption of her own good (intital endowment, $e_B$, minus what is sold, $D(p)$), and consumption of the other good ($pD(p)$) obtained through trade. $v_B(p)$ is her indirect utility, when the price is $p$, taking into account the optimal demand of the buyer."
   ]
  },
  {
   "cell_type": "markdown",
   "metadata": {
    "slideshow": {
     "slide_type": "slide"
    }
   },
   "source": [
    "Assume that agents are symmetric with quasi-linear utility functions:\n",
    "\\begin{align*}\n",
    "u_A=u_B=u(c,c') = c+ \\frac{(c')^{1-\\frac{1}{\\epsilon}} }{1-\\frac{1}{\\epsilon}}\n",
    "\\end{align*}\n",
    "And also have equal endownment $e_A = e_B=10$."
   ]
  },
  {
   "cell_type": "markdown",
   "metadata": {},
   "source": [
    "Assume the following parameter value:\n",
    "- $\\epsilon = 10.$"
   ]
  },
  {
   "cell_type": "markdown",
   "metadata": {
    "slideshow": {
     "slide_type": "slide"
    }
   },
   "source": [
    "**Question 1:** Nummerically solve, and illustrate optimal demand of the buyer, $A$, in the range $p\\in [1,2]$. Verify that what you find numerically is equal to the analytical solution, $D(p)=p^{-\\epsilon},\\,p\\geq1$ "
   ]
  },
  {
   "cell_type": "code",
   "execution_count": 11,
   "metadata": {
    "slideshow": {
     "slide_type": "slide"
    }
   },
   "outputs": [],
   "source": [
    "from Conflictmodel_sol import ConflictModel"
   ]
  },
  {
   "cell_type": "code",
   "execution_count": 12,
   "metadata": {},
   "outputs": [],
   "source": [
    "CM = ConflictModel()\n",
    "par = CM.par"
   ]
  },
  {
   "cell_type": "code",
   "execution_count": 13,
   "metadata": {},
   "outputs": [],
   "source": [
    "#"
   ]
  },
  {
   "cell_type": "code",
   "execution_count": 14,
   "metadata": {},
   "outputs": [],
   "source": [
    "#"
   ]
  },
  {
   "cell_type": "markdown",
   "metadata": {},
   "source": [
    "**Question 2:** Solve the seller's problem numerically, taking into account optimal demand of the buyer. Verify that what you find numerically is equal to the analytical solution: $p^* = \\left(\\frac{\\epsilon}{\\epsilon-1} \\right)^\\frac{\\epsilon}{2\\epsilon-1}$. <br>\n",
    "*Hint:* For this problem you can use the analytical solution to $D(p)$, but it is recomended that you use the numerical solution to $D(p)$ from question 1, and nest that when solving the seller's problem, as you will need to do that in the next question."
   ]
  },
  {
   "cell_type": "code",
   "execution_count": 15,
   "metadata": {},
   "outputs": [],
   "source": [
    "# Code"
   ]
  },
  {
   "cell_type": "code",
   "execution_count": 16,
   "metadata": {},
   "outputs": [],
   "source": [
    "#"
   ]
  },
  {
   "cell_type": "code",
   "execution_count": 17,
   "metadata": {},
   "outputs": [],
   "source": [
    "#"
   ]
  },
  {
   "cell_type": "markdown",
   "metadata": {},
   "source": [
    "Now consider a fully non-linear utility function, for both agents:\n",
    "\\begin{align}\n",
    "u_A = u_B = u(c,c') = \\frac{(c)^{1-\\frac{1}{\\eta}} }{1-\\frac{1}{\\eta}}+ \\frac{(c')^{1-\\frac{1}{\\epsilon}} }{1-\\frac{1}{\\epsilon}}\n",
    "\\end{align}"
   ]
  },
  {
   "cell_type": "markdown",
   "metadata": {},
   "source": [
    "**Question 3:** Solve for $p^*$ for the fully non-linear utility function, for $\\eta \\in \\left\\{1000,10\\right\\}$ <br>\n",
    "*Hint:* Note that this requires both solving the buyer's problem and the seller's problem numerically. "
   ]
  },
  {
   "cell_type": "code",
   "execution_count": 18,
   "metadata": {},
   "outputs": [],
   "source": [
    "# Code"
   ]
  },
  {
   "cell_type": "code",
   "execution_count": 19,
   "metadata": {},
   "outputs": [],
   "source": [
    "#"
   ]
  },
  {
   "cell_type": "code",
   "execution_count": 20,
   "metadata": {},
   "outputs": [],
   "source": [
    "#"
   ]
  },
  {
   "cell_type": "markdown",
   "metadata": {},
   "source": [
    "**Question 4:** Make two plots of $p^*$, both with $\\eta=10$ and $e_{B}=10$: \n",
    "- One of how $p^*$ changes with $\\epsilon\\in \\left[5,30\\right]$ and $e_{A}=10$\n",
    "- One of how $p^*$ changes with $e_{A}\\in \\left[2.5,30\\right]$ and $\\epsilon=10$"
   ]
  },
  {
   "cell_type": "code",
   "execution_count": 21,
   "metadata": {},
   "outputs": [],
   "source": [
    "# Code"
   ]
  },
  {
   "cell_type": "code",
   "execution_count": 22,
   "metadata": {},
   "outputs": [],
   "source": [
    "#"
   ]
  },
  {
   "cell_type": "code",
   "execution_count": 23,
   "metadata": {},
   "outputs": [],
   "source": [
    "#"
   ]
  }
 ],
 "metadata": {
  "celltoolbar": "Slideshow",
  "kernelspec": {
   "display_name": "Python 3 (ipykernel)",
   "language": "python",
   "name": "python3"
  },
  "language_info": {
   "codemirror_mode": {
    "name": "ipython",
    "version": 3
   },
   "file_extension": ".py",
   "mimetype": "text/x-python",
   "name": "python",
   "nbconvert_exporter": "python",
   "pygments_lexer": "ipython3",
   "version": "3.9.18"
  }
 },
 "nbformat": 4,
 "nbformat_minor": 2
}
