{
 "cells": [
  {
   "cell_type": "markdown",
   "metadata": {
    "slideshow": {
     "slide_type": "skip"
    }
   },
   "source": [
    "*Note:* In the lecture I'll be using  [Jupyter](https://jupyter.org/) and [RISE](https://rise.readthedocs.io/en/latest/usage.html#running-a-slideshow) to render the notebook as a slideshow. I do this for pedagogical purposes, on your own computer, you can ignore it and just read it as a notebook in VS Code."
   ]
  },
  {
   "cell_type": "markdown",
   "metadata": {
    "slideshow": {
     "slide_type": "slide"
    }
   },
   "source": [
    "# Model project"
   ]
  },
  {
   "cell_type": "markdown",
   "metadata": {},
   "source": [
    "- The model project is a central part of the course. It's your chance to put together everything you have learned, and it connects the course with the rest of your economics education.\n",
    "- They are also a good preparation for the exam.\n",
    "- Two great projects is safety net. They can compensate for a disappointing exam project.<br>\n",
    "**Table of contents**<a id='toc0_'></a>    \n",
    "- 1. [Finding a model project](#toc1_)    \n",
    "- 2. [Doing the model project](#toc2_)    \n",
    "  - 2.1. [Tips](#toc2_1_)    \n",
    "  - 2.2. [Your visualisation of the model](#toc2_2_) \n",
    "  - 2.3. [Your extension of the model](#toc2_3_)    \n",
    "- 3. [Turning the equations of a model into code](#toc3_)    \n",
    "  - 3.1. [Example from last re-exam 2024:](#toc3_1_)   \n",
    "\n",
    "<!-- vscode-jupyter-toc-config\n",
    "\tnumbering=true\n",
    "\tanchor=true\n",
    "\tflat=false\n",
    "\tminLevel=2\n",
    "\tmaxLevel=6\n",
    "\t/vscode-jupyter-toc-config -->\n",
    "<!-- THIS CELL WILL BE REPLACED ON TOC UPDATE. DO NOT WRITE YOUR TEXT IN THIS CELL -->"
   ]
  },
  {
   "cell_type": "markdown",
   "metadata": {
    "slideshow": {
     "slide_type": "slide"
    }
   },
   "source": [
    "## 1. <a id='toc1_'></a>[Finding a model project](#toc0_)"
   ]
  },
  {
   "cell_type": "markdown",
   "metadata": {},
   "source": [
    "This is also discussed in the project explanation: <br>\n",
    "Find a model you like, preferably one you have encountered earlier in your studies.<br>\n",
    "\n",
    "Some models (AS-AD, Ramsey, OLG, Exchange economy, dynamic consumption saving, worker/capitalists production model) have been covered in the lectures and in the problem sets. <br>\n",
    "\n",
    "It's still perfectly fine to choose these models for your projects, but you need to change it and make it your own, as the part of the code that comes directly from the lectures with no adaption will not be counted in the assessment."
   ]
  },
  {
   "cell_type": "markdown",
   "metadata": {
    "slideshow": {
     "slide_type": "slide"
    }
   },
   "source": [
    "**What to consider when choosing a model**\n",
    "- Do you understand the model reasonably well?\n",
    "- Do you find it interesting?\n",
    "- It's not super important that the model is complicated, but it puts the weight of the project on the extension part."
   ]
  },
  {
   "cell_type": "markdown",
   "metadata": {
    "slideshow": {
     "slide_type": "slide"
    }
   },
   "source": [
    "## 2. <a id='toc2_'></a>[Doing the model project](#toc0_)"
   ]
  },
  {
   "cell_type": "markdown",
   "metadata": {
    "slideshow": {
     "slide_type": "slide"
    }
   },
   "source": [
    "### 2.1. <a id='toc2_1_'></a>[Tips](#toc0_)"
   ]
  },
  {
   "cell_type": "markdown",
   "metadata": {},
   "source": [
    "When working:\n",
    "- Start with the most straightforeward solution. Then simplify and optimize the code. <br>\n",
    "- Show and test intermediate results (both when you're working, but also in the project). <br>\n",
    "- It's good to have an idea of what the results should look like, and make tests from that, to debug your code. <br>\n",
    "- This can be from an analytical solution or intuition. <br>\n",
    "\n",
    "Using modules (.py files) makes it **much easier** to structure your code. <br>\n",
    "It also makes it easier to reuse functions, so you aviod repeating yourself. <br>\n",
    "\n",
    "Don't relly too much on sympy. 'Numerical analysis' is part of the course name for a reason."
   ]
  },
  {
   "cell_type": "markdown",
   "metadata": {
    "slideshow": {
     "slide_type": "slide"
    }
   },
   "source": [
    "### 2.2. <a id='toc2_2_'></a>[Your visualisation of the model](#toc0_)"
   ]
  },
  {
   "cell_type": "markdown",
   "metadata": {},
   "source": [
    "This is very model dependent, you can e.g.:\n",
    "- Show the values that define the solution of your model, in whatever way you see fit\n",
    "- Show how the solution changes for different parameter values\n",
    "- If the model is time-dependent, then show evolution over time"
   ]
  },
  {
   "cell_type": "markdown",
   "metadata": {
    "slideshow": {
     "slide_type": "slide"
    }
   },
   "source": [
    "### 2.3. <a id='toc2_3_'></a>[Your extension of the model](#toc0_)"
   ]
  },
  {
   "cell_type": "markdown",
   "metadata": {},
   "source": [
    "- If you already have a complex model, your extension doesn’t necessarily have to be revolutionising. <br> \n",
    "With a good structure, it will typically not be that hard to re-solve the model with a different production or utility function. <br>\n",
    "\n",
    "- On the other hand, if you have a simple model, the meat of your project is the extension.<br>\n",
    "    This could include adding a new dimension to the model, like a new consumer good, making a parameter endogenous, etc."
   ]
  },
  {
   "cell_type": "markdown",
   "metadata": {
    "slideshow": {
     "slide_type": "slide"
    }
   },
   "source": [
    "## 3. <a id='toc3_'></a>[Turning the equations of a model into code](#toc0_)"
   ]
  },
  {
   "cell_type": "markdown",
   "metadata": {},
   "source": [
    "The Ramsey and OLG lectures are also really good case studies of this.<br>\n",
    "I have a quick aside on integrals and then I'll go through some examples."
   ]
  },
  {
   "cell_type": "markdown",
   "metadata": {
    "slideshow": {
     "slide_type": "slide"
    }
   },
   "source": [
    "**Turning an intergral into a sum**<br>\n",
    "Integrals do not have a direct coding equivalent, but you can stil choose a model with integrals. <br>\n",
    "- You can do an numerical approximate them using something like `scipy.integrate`\n",
    "- You can also redefine the model into a discrete version, this is for example done in the Ramsey notebook <br>\n",
    "E.g.\n",
    "\\begin{align*}\n",
    "U = \\int_{0}^{\\infty} e^{(\\beta-1) t} u(c(t)) dt  \n",
    "\\end{align*}\n",
    "You could write as:\n",
    "\\begin{align*}\n",
    "U = \\sum_{t=0}^{\\infty} \\beta^t u(c(t))\n",
    "\\end{align*}\n",
    "$L_t= L_0 e^{g\\cdot t}$, means something is grows about $g$ percent when $t$ increases by 1. <br>\n",
    "So you write $L_t = (1+g)^t\\cdot L_0$ or $L_t = (1+g)\\cdot L_{t-1}$"
   ]
  },
  {
   "cell_type": "markdown",
   "metadata": {
    "slideshow": {
     "slide_type": "slide"
    }
   },
   "source": [
    "### 3.2. <a id='toc3_2_'></a>[Example from last re-exam 2024:](#toc0_)"
   ]
  },
  {
   "cell_type": "markdown",
   "metadata": {},
   "source": [
    "Consider an exchange economy with two agents, $A$ and $B$ each with their own distinct good. Their endowment are $e_A$ and $e_B$. Agent $A$ is the buyer, she takes the relative price of the two goods, $p$, as given and chooses the amount of agent $B$'s good to exchange for her own. Agent $B$ is the seller, she sets the relative price between the goods, optimally taking into account $A$'s demand."
   ]
  },
  {
   "cell_type": "markdown",
   "metadata": {
    "slideshow": {
     "slide_type": "slide"
    }
   },
   "source": [
    "**Agent $A$, the buyer, solves:**\n",
    "$$\n",
    "\\begin{align*}\n",
    "V_{A}(p) = \\max_{c,c'} u_A(c,c') \\\\ s.t. \\; c+pc'=e_{A} \\\\\n",
    "\\end{align*}\n",
    "$$\n",
    "Or simply:\n",
    "$$\n",
    "\\begin{align*}\n",
    "V_{A}(p) = \\max_{c'} u_A(e_{A}-pc',c')  \\\\\n",
    "\\end{align*}\n",
    "$$\n",
    "Where $c$ is consumption of her own good and $c'$ is consumption of the other good.<br>\n",
    "$u_A$ is her utility function. <br>\n",
    "This optimization yields the optimal demand function:\n",
    "$$\n",
    "\\begin{align*}\n",
    "\\Rightarrow c' = D(p)\n",
    "\\end{align*}\n",
    "$$"
   ]
  },
  {
   "cell_type": "markdown",
   "metadata": {
    "slideshow": {
     "slide_type": "slide"
    }
   },
   "source": [
    "**Agent $B$, the seller, solves:**\n",
    "\\begin{align*}\n",
    "p^* \\equiv \\arg\\max_p v_B(p) \\\\\n",
    "\\end{align*}\n",
    "where\n",
    "\\begin{align*}\n",
    "\\;\\,v_B(p) \\equiv u_B(e_B-D(p),pD(p))\n",
    "\\end{align*}"
   ]
  },
  {
   "cell_type": "markdown",
   "metadata": {},
   "source": [
    "$u_B$ is her utility function in consumption of her own good (intital endowment, $e_B$, minus what is sold, $D(p)$), and consumption of the other good ($pD(p)$) obtained through trade. $v_B(p)$ is her indirect utility, when the price is $p$, taking into account the optimal demand of the buyer."
   ]
  },
  {
   "cell_type": "markdown",
   "metadata": {
    "slideshow": {
     "slide_type": "slide"
    }
   },
   "source": [
    "Assume that agents are symmetric with quasi-linear utility functions:\n",
    "\\begin{align*}\n",
    "u_A=u_B=u(c,c') = c+ \\frac{(c')^{1-\\frac{1}{\\epsilon}} }{1-\\frac{1}{\\epsilon}}\n",
    "\\end{align*}\n",
    "And also have equal endownment $e_A = e_B=10$."
   ]
  },
  {
   "cell_type": "markdown",
   "metadata": {},
   "source": [
    "Assume the following parameter value:\n",
    "- $\\epsilon = 10.$"
   ]
  },
  {
   "cell_type": "markdown",
   "metadata": {
    "slideshow": {
     "slide_type": "slide"
    }
   },
   "source": [
    "**Question 1:** Nummerically solve, and illustrate optimal demand of the buyer, $A$, in the range $p\\in [1,2]$. Verify that what you find numerically is equal to the analytical solution, $D(p)=p^{-\\epsilon},\\,p\\geq1$ "
   ]
  },
  {
   "cell_type": "code",
   "execution_count": 11,
   "metadata": {
    "slideshow": {
     "slide_type": "slide"
    }
   },
   "outputs": [
    {
     "name": "stdout",
     "output_type": "stream",
     "text": [
      "The autoreload extension is already loaded. To reload it, use:\n",
      "  %reload_ext autoreload\n"
     ]
    }
   ],
   "source": [
    "%load_ext autoreload\n",
    "%autoreload 2\n",
    "from Conflictmodel import ConflictModel"
   ]
  },
  {
   "cell_type": "code",
   "execution_count": 25,
   "metadata": {},
   "outputs": [],
   "source": [
    "CM = ConflictModel()\n",
    "par = CM.par"
   ]
  },
  {
   "cell_type": "code",
   "execution_count": null,
   "metadata": {},
   "outputs": [],
   "source": []
  },
  {
   "cell_type": "markdown",
   "metadata": {},
   "source": [
    "**Question 2:** Solve the seller's problem numerically, taking into account optimal demand of the buyer. Verify that what you find numerically is equal to the analytical solution: $p^* = \\left(\\frac{\\epsilon}{\\epsilon-1} \\right)^\\frac{\\epsilon}{2\\epsilon-1}$. <br>\n",
    "*Hint:* For this problem you can use the analytical solution to $D(p)$, but it is recomended that you use the numerical solution to $D(p)$ from question 1, and nest that when solving the seller's problem, as you will need to do that in the next question."
   ]
  },
  {
   "cell_type": "code",
   "execution_count": 23,
   "metadata": {},
   "outputs": [],
   "source": [
    "# Code"
   ]
  },
  {
   "cell_type": "markdown",
   "metadata": {},
   "source": [
    "Now consider a fully non-linear utility function, for both agents:\n",
    "\\begin{align}\n",
    "u_A = u_B = u(c,c') = \\frac{(c)^{1-\\frac{1}{\\eta}} }{1-\\frac{1}{\\eta}}+ \\frac{(c')^{1-\\frac{1}{\\epsilon}} }{1-\\frac{1}{\\epsilon}}\n",
    "\\end{align}"
   ]
  },
  {
   "cell_type": "markdown",
   "metadata": {},
   "source": [
    "**Question 3:** Solve for $p^*$ for the fully non-linear utility function, for $\\eta \\in \\left\\{1000,10\\right\\}$ <br>\n",
    "*Hint:* Note that this requires both solving the buyer's problem and the seller's problem numerically. "
   ]
  },
  {
   "cell_type": "code",
   "execution_count": null,
   "metadata": {},
   "outputs": [],
   "source": [
    "# Code"
   ]
  },
  {
   "cell_type": "markdown",
   "metadata": {},
   "source": [
    "**Question 4:** Make two plots of $p^*$, both with $\\eta=10$ and $e_{B}=10$: \n",
    "- One of how $p^*$ changes with $\\epsilon\\in \\left[5,30\\right]$ and $e_{A}=10$\n",
    "- One of how $p^*$ changes with $e_{A}\\in \\left[2.5,30\\right]$ and $\\epsilon=10$"
   ]
  },
  {
   "cell_type": "code",
   "execution_count": null,
   "metadata": {},
   "outputs": [],
   "source": [
    "# Code"
   ]
  }
 ],
 "metadata": {
  "celltoolbar": "Slideshow",
  "kernelspec": {
   "display_name": "Python 3 (ipykernel)",
   "language": "python",
   "name": "python3"
  },
  "language_info": {
   "codemirror_mode": {
    "name": "ipython",
    "version": 3
   },
   "file_extension": ".py",
   "mimetype": "text/x-python",
   "name": "python",
   "nbconvert_exporter": "python",
   "pygments_lexer": "ipython3",
   "version": "3.9.18"
  }
 },
 "nbformat": 4,
 "nbformat_minor": 2
}
