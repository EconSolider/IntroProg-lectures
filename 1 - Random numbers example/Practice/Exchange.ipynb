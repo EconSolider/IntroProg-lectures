{
 "cells": [
  {
   "cell_type": "markdown",
   "metadata": {},
   "source": [
    "# Exchange economy with many heterogenous consumers"
   ]
  },
  {
   "cell_type": "markdown",
   "metadata": {},
   "source": [
    "This notebook shows how to use random numbers to simulate and solve a full equilibrium model with many heterogeneous agents."
   ]
  },
  {
   "cell_type": "code",
   "execution_count": 1,
   "metadata": {},
   "outputs": [],
   "source": [
    "# primer\n",
    "import numpy as np\n",
    "from scipy.optimize import minimize\n",
    "import matplotlib.pyplot as plt\n",
    "plt.rcParams.update({\"axes.grid\":True,\"grid.color\":\"black\",\"grid.alpha\":\"0.25\",\"grid.linestyle\":\"--\"})\n",
    "plt.rcParams.update({'font.size': 14})\n",
    "\n",
    "import ipywidgets as widgets # For interactive plots/buttons"
   ]
  },
  {
   "cell_type": "markdown",
   "metadata": {},
   "source": [
    "**Single Consumer**\n",
    "1. 2 goods, $(x_1,x_2)$\n",
    "2. $N$ consumers indexed by $j \\in \\{1,2,\\dots,N\\}$\n",
    "3. Preferences are Cobb-Douglas with uniformly *heterogenous* coefficients\n",
    "4. with Price $(p_1,p_2)$\n",
    "\n",
    "$$\n",
    "\\begin{aligned}\n",
    "u^j(x_1^j,x_2^j)={x_1^j}^{\\alpha_j} {x_2^j}^{1-\\alpha_j} \\\\\n",
    "\\alpha_j \\sim \\mathcal{U}(\\underline{\\alpha}, \\overline{\\alpha}), \\text{where} \\quad 0 < \\underline{\\alpha}, \\overline{\\alpha} <1 \\\\\n",
    "\\text{s.t.} \\quad p_1x_1^j + p_2x_2^j \\leq I = p_1 e_1^j + p_2 e_2^j\n",
    "\\end{aligned}\n",
    "$$\n",
    "\n",
    "5. Assume Endowments are homogenous $\\boldsymbol{e^j}=(e_1^j,e_2^j)=(k,1)$\n",
    "6. According to the FOCs and budget constraint we have\n",
    "$$\n",
    "x_1^{j*} = \\alpha_j \\frac{I}{p_1} \\\\\n",
    "x_2^{j*} = (1-\\alpha_j) \\frac{I}{p_2}\n",
    "$$"
   ]
  },
  {
   "cell_type": "code",
   "execution_count": 2,
   "metadata": {},
   "outputs": [],
   "source": [
    "class ConsumerClass():\n",
    "    def __init__(self,alpha,k):\n",
    "        # Cobb-Douglas parameter\n",
    "        self.alpha = alpha\n",
    "        # Homogenous endowments\n",
    "        self.endowments = [k,1]\n",
    "    \n",
    "    def demands(self,p1,p2):\n",
    "        # Demand function derived from FOCs\n",
    "        Income = p1*self.endowments[0] + p2*self.endowments[1]\n",
    "        demand_good1 = self.alpha * Income / p1 \n",
    "        demand_good2 = (1-self.alpha) * Income / p2\n",
    "        return demand_good1 , demand_good2\n",
    "    \n",
    "    def utility(self,p1,p2):\n",
    "        # maximized utility value\n",
    "        x1,x2 = self.demands(p1,p2)\n",
    "        util = x1**self.alpha * x2**(1-self.alpha)\n",
    "        return util\n"
   ]
  },
  {
   "cell_type": "markdown",
   "metadata": {},
   "source": [
    "**Market clearing**\n",
    "\n",
    "The price vector $(p_1,p_2)$ should satisfy underline equations\n",
    "$$\n",
    " \\underset{\\text{Demand}} {\\underbrace{\\sum_{j=1}^N x_1^j}} \n",
    "                            =x_1(p1,p2) = \\underset{\\text{Supply}} {\\underbrace{\\sum_{j=1}^N e_1^j}} \\\\\n",
    " \\underset{\\text{Demand}} {\\underbrace{\\sum_{j=1}^N x_2^j}} \n",
    "                            =x_2(p1,p2) = \\underset{\\text{Supply}} {\\underbrace{\\sum_{j=1}^N e_2^j}}\n",
    "$$"
   ]
  },
  {
   "cell_type": "markdown",
   "metadata": {},
   "source": [
    "**Algorithm:**  `slove_eq()`  \n",
    "First choose a tolerance $\\epsilon > 0$ and an adjustment factor $\\kappa>0$, and a guess on $p_{1,0} > 0$. \n",
    "\n",
    "Then find the equilibrium price by following iterative algorithm:\n",
    "\n",
    "1. Calculate total excess demand of good 1: $Z_1 = \\sum_{j=1}^N x_{1}^{\\star j}(p_{1},p_{2},e^{j}) - \\sum_{j=1}^N e_1^j $ `excess_demand(p1,p2)`\n",
    "2. If $|Z_1| < \\epsilon $ stop\n",
    "3. If $|Z_1| \\geq \\epsilon $ set $p_{1,n+1} = p_{1,n} + \\kappa \\cdot \\frac{Z_1}{N}$\n",
    "4. Return to step 1\n",
    "\n",
    "**Intuition**  \n",
    "If excess demand is **positive** and far from 0, then **increase** the price.  \n",
    "If excess demand is **negative** and far from 0, then **decrease** the price.  "
   ]
  },
  {
   "cell_type": "code",
   "execution_count": 8,
   "metadata": {},
   "outputs": [],
   "source": [
    "class MarketClass:\n",
    "    def __init__(self,num_consumers,k):\n",
    "        np.random.seed(42)\n",
    "        # homogenous endowment of good 1\n",
    "        self.k = k\n",
    "        \n",
    "        # Define the consumer sets\n",
    "        self.consumers = [ConsumerClass(alpha=np.random.rand()*0.7+0.2, k=k) for _ in range(num_consumers)]\n",
    "\n",
    "        # price of good 2 as numerial\n",
    "        self.p2 = 1\n",
    "        \n",
    "        # size of consumer sers\n",
    "        self.num_consumers = num_consumers\n",
    "\n",
    "    def total_supply(self):\n",
    "        total_supply_good1 = sum(consumer.endowments[0] for consumer in self.consumers)\n",
    "        total_supply_good2 = sum(consumer.endowments[1] for consumer in self.consumers)\n",
    "        return total_supply_good1 , total_supply_good2\n",
    "    \n",
    "    def total_demand(self,p1,p2):\n",
    "        total_demand_good1 = sum(consumer.demands(p1,p2)[0] for consumer in self.consumers)\n",
    "        total_demand_good2 = sum(consumer.demands(p1,p2)[1] for consumer in self.consumers)\n",
    "        return total_demand_good1, total_demand_good2\n",
    "\n",
    "    def excess_demand(self,p1,p2):\n",
    "        excess_demand_good1 =  self.total_demand(p1,p2)[0] - self.total_supply()[0]\n",
    "        excess_demand_good2 =  self.total_demand(p1,p2)[1] - self.total_supply()[1]\n",
    "        return excess_demand_good1, excess_demand_good2\n",
    "    \n",
    "    def solve_eq(self):\n",
    "        p1_ini = 1       # initial price of good 1\n",
    "        kappa =0.5       # parameter to solve market condition\n",
    "        maxiter = 2000   # maximum number of iterations\n",
    "        iter = 1        # iteration counter\n",
    "        eps = 1e-8      # convergence tolerance\n",
    "        diff = 2        # initial excess demand\n",
    "        \n",
    "        while iter <= maxiter and diff > eps:\n",
    "            p1 = p1_ini + kappa * self.excess_demand(p1_ini,self.p2)[0]\n",
    "            diff = abs(self.excess_demand(p1_ini,self.p2)[0])\n",
    "            p1_ini = p1\n",
    "            iter += 1\n",
    "        # check for convergence:\n",
    "        if diff > eps:\n",
    "            print(f'iter: {iter} --> excess demand: {self.excess_demand(p1_ini,self.p2)[0]}')\n",
    "        return p1,self.p2 \n",
    "    \n",
    "    def distribution(self):\n",
    "        consumptions_good1 = []\n",
    "        consumptions_good2 = []\n",
    "        for consumer in self.consumers:\n",
    "            p1, p2  = self.solve_eq()\n",
    "            x1 , x2 = consumer.demands(p1,p2)\n",
    "            consumptions_good1.append(x1)\n",
    "            consumptions_good2.append(x2)\n",
    "        return consumptions_good1, consumptions_good2\n",
    "    \n",
    "    def social_welfare(self):\n",
    "        p1,p2 = self.solve_eq()\n",
    "        wel = sum(consumer.utility(p1,p2) for consumer in self.consumers)\n",
    "        return wel\n"
   ]
  },
  {
   "cell_type": "code",
   "execution_count": 4,
   "metadata": {},
   "outputs": [
    {
     "name": "stdout",
     "output_type": "stream",
     "text": [
      "equilibrium prices = (2.170068764005229, 1)\n",
      "social welfare = 15.476\n"
     ]
    }
   ],
   "source": [
    "# solve the model, get the equilibrium prices\n",
    "\n",
    "market = MarketClass(num_consumers=20,k=0.5)\n",
    "equilibrium_prices = market.solve_eq()\n",
    "print(f'equilibrium prices = {equilibrium_prices}')\n",
    "\n",
    "welfare = market.social_welfare()\n",
    "print(f'social welfare = {welfare:.3f}')"
   ]
  },
  {
   "cell_type": "code",
   "execution_count": 5,
   "metadata": {},
   "outputs": [
    {
     "data": {
      "image/png": "[encoded data removed]",
      "text/plain": [
       "<Figure size 1000x400 with 2 Axes>"
      ]
     },
     "metadata": {},
     "output_type": "display_data"
    }
   ],
   "source": [
    "# Plot the distribution of consumptions\n",
    "consump1,consump2 = market.distribution()\n",
    "\n",
    "plt.figure(figsize=(10, 4))\n",
    "\n",
    "plt.subplot(1, 2, 1)\n",
    "plt.hist(consump1)\n",
    "plt.xlabel('Consumption of x1')\n",
    "plt.ylabel('Frequency')\n",
    "\n",
    "plt.subplot(1, 2, 2)\n",
    "plt.hist(consump2)\n",
    "plt.xlabel('Consumption of x2')\n",
    "plt.ylabel('Frequency')\n",
    "\n",
    "plt.tight_layout()\n",
    "plt.show()"
   ]
  },
  {
   "cell_type": "markdown",
   "metadata": {},
   "source": [
    "Comparative analysis  \n",
    "What happend if we change the endowment of consumers $k$ ?  "
   ]
  },
  {
   "cell_type": "markdown",
   "metadata": {},
   "source": [
    "Create a function constructing a figure"
   ]
  },
  {
   "cell_type": "code",
   "execution_count": 9,
   "metadata": {},
   "outputs": [],
   "source": [
    "def interactive_figure(num_consumers,k):\n",
    "    \n",
    "    # a. calculations\n",
    "    consump_a,comump_b = MarketClass(num_consumers,k).distribution()\n",
    "    \n",
    "    # b. figure\n",
    "    fig = plt.figure(dpi=100)\n",
    "    ax = fig.add_subplot(1,1,1)\n",
    "    ax.hist(consump_a)\n",
    "    ax.set_xlim([0,1.5]) # fixed x range\n",
    "    ax.set_ylim([0,8]) # fixed y range\n",
    "    ax.set_title(\"Distribution of demand for good 1\")\n",
    "    ax.set_ylabel(\"Frequency\")"
   ]
  },
  {
   "cell_type": "markdown",
   "metadata": {},
   "source": [
    "Make it interactive with a **slider**"
   ]
  },
  {
   "cell_type": "code",
   "execution_count": 10,
   "metadata": {},
   "outputs": [
    {
     "data": {
      "application/vnd.jupyter.widget-view+json": {
       "model_id": "6249507335f949d7b742459f138d422a",
       "version_major": 2,
       "version_minor": 0
      },
      "text/plain": [
       "interactive(children=(IntSlider(value=10, description='N', max=20, min=1), FloatSlider(value=0.7, description=…"
      ]
     },
     "metadata": {},
     "output_type": "display_data"
    }
   ],
   "source": [
    "# Write out which arguments to interactive_figure you want to be changing or staying fixed \n",
    "widgets.interact(interactive_figure,\n",
    "    num_consumers=widgets.IntSlider(description=r\"N\",min=1, max=20, step=1, value=10),\n",
    "    k=widgets.FloatSlider(description=r\"k\", min=0.01, max=0.7, step=0.05, value=2)\n",
    ");\n"
   ]
  }
 ],
 "metadata": {
  "kernelspec": {
   "display_name": "base",
   "language": "python",
   "name": "python3"
  },
  "language_info": {
   "codemirror_mode": {
    "name": "ipython",
    "version": 3
   },
   "file_extension": ".py",
   "mimetype": "text/x-python",
   "name": "python",
   "nbconvert_exporter": "python",
   "pygments_lexer": "ipython3",
   "version": "3.12.3"
  }
 },
 "nbformat": 4,
 "nbformat_minor": 2
}
