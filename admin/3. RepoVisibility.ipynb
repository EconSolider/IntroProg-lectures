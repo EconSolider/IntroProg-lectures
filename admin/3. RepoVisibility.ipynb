{
 "cells": [
  {
   "attachments": {},
   "cell_type": "markdown",
   "id": "4a9fd3f3-ec08-43bc-8934-11d4475814c9",
   "metadata": {},
   "source": [
    "# Change visibility status of projects"
   ]
  },
  {
   "cell_type": "code",
   "execution_count": 2,
   "id": "b4a69b89-2eee-436e-857e-58966be3b7bc",
   "metadata": {},
   "outputs": [],
   "source": [
    "#%pip install PyGithub"
   ]
  },
  {
   "cell_type": "code",
   "execution_count": 6,
   "id": "f9da979b-0fb8-4bf5-bc2d-2852aa3a1385",
   "metadata": {},
   "outputs": [],
   "source": [
    "from github import Github \n",
    "import sys\n",
    "import datetime\n",
    "import pandas as pd\n",
    "import numpy as np\n",
    "import random\n",
    "from collections import Counter"
   ]
  },
  {
   "cell_type": "code",
   "execution_count": 7,
   "id": "effd94fb",
   "metadata": {},
   "outputs": [],
   "source": [
    "%load_ext autoreload\n",
    "%autoreload 2 \n",
    "from groups_utils import load_repos"
   ]
  },
  {
   "attachments": {},
   "cell_type": "markdown",
   "id": "66bda1ab-3722-4c45-8850-8367088c6453",
   "metadata": {},
   "source": [
    "### Load all repositories in this year's class room"
   ]
  },
  {
   "cell_type": "code",
   "execution_count": 8,
   "id": "cc1f2223-bbd2-4bc8-8219-8d1244d12d37",
   "metadata": {},
   "outputs": [],
   "source": [
    "class_name, all_repos, current_class, disregard_repos = load_repos()"
   ]
  },
  {
   "attachments": {},
   "cell_type": "markdown",
   "id": "05db6b56-075a-4a5d-9425-1786215b1a0d",
   "metadata": {},
   "source": [
    "### Set visibility of all repositories"
   ]
  },
  {
   "cell_type": "code",
   "execution_count": 4,
   "id": "61c04db4-dcfb-4f14-b5dc-c470520db66b",
   "metadata": {},
   "outputs": [],
   "source": [
    "# change\n",
    "is_private = False\n",
    "\n",
    "# set privacy status\n",
    "for repo in all_repos:\n",
    "\n",
    "    if repo.name not in current_class: continue\n",
    "        \n",
    "    # update status    \n",
    "    repo.edit(private = is_private)"
   ]
  },
  {
   "attachments": {},
   "cell_type": "markdown",
   "id": "51eef9c4-abc7-4db1-aa03-e324dc1a9d03",
   "metadata": {},
   "source": [
    "### Check out visibility"
   ]
  },
  {
   "cell_type": "code",
   "execution_count": 9,
   "id": "97f0a3f1-9537-42ca-a15b-f6af68391469",
   "metadata": {},
   "outputs": [
    {
     "name": "stdout",
     "output_type": "stream",
     "text": [
      "public : agnete_louise_mathilde\n",
      "public : teamssb\n",
      "public : bpr871\n",
      "public : valros\n",
      "public : iim\n",
      "public : snj927-vpc398\n",
      "public : kto\n",
      "public : hello-world-1\n",
      "public : newteam\n",
      "public : mes\n",
      "public : cbjk\n",
      "public : mej\n",
      "public : p-b\n",
      "public : fmw786\n",
      "public : hold-11\n",
      "public : it-hurts-when-ip\n",
      "public : jt\n",
      "public : kscd\n",
      "public : andershuus_christianfogel\n",
      "public : jakki\n",
      "public : n-m\n",
      "public : flm446\n",
      "public : 3500\n",
      "public : siuuu\n",
      "public : jc\n",
      "public : latin-power\n",
      "public : rvcode\n",
      "public : EFS\n",
      "public : best-team\n",
      "public : icehot1\n",
      "public : jts\n",
      "public : anton-holsoe\n",
      "public : ida-simone-elin\n",
      "public : zds655\n",
      "public : wsz235\n",
      "public : emil-freddy\n",
      "public : bulen\n",
      "public : andy-bank\n",
      "public : 2x-chris-og-ras\n",
      "public : ctrl-alt-elite\n",
      "public : f-m-r-23\n",
      "public : shashi-buhle\n",
      "public : de-slemme-programmeringsrotter\n",
      "public : team-lets-practice\n",
      "public : adamhjorgensen\n",
      "public : jos-p-og-tex\n",
      "public : lise-adam\n",
      "public : programmeursuno\n",
      "public : ldg790-wxz394\n",
      "public : joost-adam-og-frederik\n",
      "public : virginia-rebecca\n",
      "public : mathias-emma-S-ren\n",
      "public : helene-and-cecilie-class-3\n",
      "public : julius-oskar\n",
      "public : magnus-kristian\n",
      "public : tgr401\n",
      "public : kernen-af-kulten\n",
      "public : aca\n",
      "public : tgp190\n",
      "public : snakecity\n",
      "public : mc\n",
      "public : scb\n",
      "public : vennerne\n",
      "public : julie-ida-ida\n",
      "public : noobs\n",
      "public : pied-piper\n",
      "public : team-copenhagen\n",
      "public : ts-nt\n",
      "public : leif\n",
      "public : frederikke-x2-og-sofie\n",
      "public : boybandet\n",
      "public : alt-andet-end-lige\n",
      "public : philx2-nico\n",
      "public : mit-hemmelige-hold\n",
      "public : peter_kj\n",
      "public : politgrammering\n",
      "public : the-pythoneers\n",
      "public : jacob-per\n",
      "public : rikke-og-emma\n",
      "public : team-norway\n",
      "public : lukas-august\n",
      "public : andreas\n",
      "public : jps\n",
      "public : aml\n",
      "public : git\n",
      "public : mmj\n",
      "public : the-best-duo\n",
      "public : c\n",
      "public : michele-scola\n",
      "public : python\n",
      "public : s\n",
      "public : data_daddies\n",
      "public : black-scholes\n",
      "public : petron\n",
      "public : lnp953\n",
      "public : david_kn\n",
      "public : smp\n",
      "public : rpb672\n",
      "public : wilhelm\n",
      "public : amalietokk\n",
      "public : team-isengard\n",
      "public : test\n"
     ]
    }
   ],
   "source": [
    "for repo in all_repos:\n",
    "\n",
    "    if repo.name not in current_class: continue\n",
    "        \n",
    "    if repo.private:\n",
    "        s = \"private\"\n",
    "    else: \n",
    "        s = \"public \"\n",
    "    \n",
    "    print(s + \": \" + repo.name.removeprefix(class_name+\"-\"))"
   ]
  },
  {
   "cell_type": "code",
   "execution_count": null,
   "id": "dace07d9",
   "metadata": {},
   "outputs": [],
   "source": []
  }
 ],
 "metadata": {
  "kernelspec": {
   "display_name": "base",
   "language": "python",
   "name": "python3"
  },
  "language_info": {
   "codemirror_mode": {
    "name": "ipython",
    "version": 3
   },
   "file_extension": ".py",
   "mimetype": "text/x-python",
   "name": "python",
   "nbconvert_exporter": "python",
   "pygments_lexer": "ipython3",
   "version": "3.11.5"
  },
  "vscode": {
   "interpreter": {
    "hash": "47ef90cdf3004d3f859f1fb202523c65c07ba7c22eefd261b181f4744e2d0403"
   }
  }
 },
 "nbformat": 4,
 "nbformat_minor": 5
}
